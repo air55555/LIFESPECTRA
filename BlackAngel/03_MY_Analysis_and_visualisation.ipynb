{
 "cells": [
  {
   "cell_type": "markdown",
   "metadata": {
    "id": "pCAW9lyrKPz0"
   },
   "source": [
    "### Chapter 1: Setup and data retrieval\n",
    "\n",
    "As in the other notebooks, we must first setup hylite in the Colab environment and then download the data. In this case, we download (1) the hyperclouds created in Notebook 1, and (2) the minimum wavelength maps generated in Notebook 2.\n"
   ]
  },
  {
   "cell_type": "markdown",
   "metadata": {
    "id": "p2uwKz_9MdJH"
   },
   "source": [
    "### Chapter 2: Band ratios and saturation enhanced visualisation\n",
    "\n",
    "Even simple processing methods can produce qualitatively useful visualisations of hyperspectral data. In the following we apply some well established band ratios to create a false-colour point cloud that captures variation in iron mineralogy, and a saturation enhanced false-colour image that conveys the geological variability captured in the SWIR range."
   ]
  },
  {
   "cell_type": "code",
   "execution_count": 1,
   "metadata": {
    "colab": {
     "base_uri": "https://localhost:8080/"
    },
    "id": "b4Fl5VUeLDEg",
    "outputId": "01115578-5344-4e26-f561-c6ca24ad4cf7"
   },
   "outputs": [],
   "source": [
    "import hylite # if this doesn't work then please refer to Step 1\n",
    "from hylite import io\n",
    "import matplotlib.pyplot as plt\n",
    "import matplotlib as mpl\n",
    "import numpy as np\n",
    "from hylite.analyse import band_ratio\n",
    "from hylite.filter import boost_saturation\n",
    "from hylite.correct import get_hull_corrected\n",
    "from hylite.analyse import colourise_mwl, plot_ternary\n",
    "from hylite.project import Camera\n",
    "from hylite.project import proj_pano\n",
    "import matplotlib.gridspec as gridspec"
   ]
  },
  {
   "cell_type": "code",
   "execution_count": 2,
   "metadata": {
    "id": "xvA7n8zjNCna"
   },
   "outputs": [],
   "source": [
    "# figure settings for matplotlib\n",
    "plt.rc('font', size=14)          # controls default text sizes\n",
    "plt.rc('axes', titlesize=18)     # fontsize of the axes title\n",
    "plt.rc('axes', labelsize=14)    # fontsize of the x and y labels\n",
    "plt.rc('xtick', labelsize=14)    # fontsize of the tick labels\n",
    "plt.rc('ytick', labelsize=14)    # fontsize of the tick labels\n",
    "plt.rc('legend', fontsize=12)    # legend fontsize\n",
    "plt.rc('figure', titlesize=20)  # fontsize of the figure title\n",
    "mpl.rcParams[\"figure.facecolor\"] = \"white\"\n",
    "mpl.rcParams[\"axes.facecolor\"] = \"white\"\n",
    "mpl.rcParams[\"savefig.facecolor\"] = \"white\"\n",
    "c = 'black'\n",
    "mpl.rcParams['text.color'] = c\n",
    "mpl.rcParams['axes.labelcolor'] = c\n",
    "mpl.rcParams['xtick.color'] = c\n",
    "mpl.rcParams['ytick.color'] = c"
   ]
  },
  {
   "cell_type": "code",
   "execution_count": 3,
   "metadata": {
    "id": "mnEBbwfANFo7"
   },
   "outputs": [],
   "source": [
    "# load hyperclouds HyCollection\n",
    "C = io.load('hyperclouds.hyc')"
   ]
  },
  {
   "cell_type": "code",
   "execution_count": 4,
   "metadata": {
    "id": "DSvIfRL_NIRN"
   },
   "outputs": [],
   "source": [
    "# create output for storing mapping results\n",
    "O = hylite.HyCollection( 'visualisations','results/')"
   ]
  },
  {
   "cell_type": "markdown",
   "metadata": {
    "id": "gn-nwASNaQh5"
   },
   "source": [
    "Compute band ratios showing iron mineralogy"
   ]
  },
  {
   "cell_type": "code",
   "execution_count": 5,
   "metadata": {
    "colab": {
     "base_uri": "https://localhost:8080/"
    },
    "id": "qW1PpX0XNMHf",
    "outputId": "2a2af38b-c3bb-4b29-fe62-9d91e2508afa"
   },
   "outputs": [
    {
     "name": "stdout",
     "output_type": "stream",
     "text": [
      "Loading data for M1. Generating: iron indices...Saving...Done.\n",
      "Loading data for M4. Generating: iron indices...Saving...Done.\n",
      "Loading data for N1. Generating: iron indices...Saving...Done.\n",
      "Loading data for N2. Generating: iron indices...Saving...Done.\n"
     ]
    }
   ],
   "source": [
    "for n in ['M1', 'M4', 'N1', 'N2']:\n",
    "    print(\"Loading data for %s\" % n, end = '')\n",
    "    cloud = C.get(n)\n",
    "    bands = np.full(cloud.band_count(), False)\n",
    "    bands[ [ cloud.get_band_index(b) for b in [570.,600., 2280., 2245.] ] ] = True # bands needed for Fe3 and FeOH ratios\n",
    "    bands[ cloud.get_band_index(920.):cloud.get_band_index(1650.) ] = True # band range needed for Fe2 ratio\n",
    "    cloud = cloud.export_bands(bands) # save RAM before decompressing by grabbing only bands we need\n",
    "    cloud.decompress()\n",
    "    cloud.set_as_nan(0)\n",
    "\n",
    "    # filter / clean point cloud\n",
    "    valid = np.isfinite(cloud.data).all(axis=-1) & (cloud.data != 0).any(axis=-1)\n",
    "    cloud.filter_points(0, np.logical_not(valid))\n",
    "\n",
    "    # iron band ratios\n",
    "    print(\". Generating: iron indices...\", end = '')\n",
    "    Fe3 = band_ratio( cloud, 600., 570. )\n",
    "    Fe2 = band_ratio( cloud, [920.,1650.],[1035.,1230.])\n",
    "    FeOH = band_ratio( cloud, 2280., 2245. )\n",
    "\n",
    "    stack = cloud.copy( data = False )\n",
    "    stack.data = np.hstack( [(Fe3.data - 1.0) / 0.3, (Fe2.data-0.95) / 0.1, (FeOH.data - 1.0) / 0.3 ] ) # build RGB data and apply colour stretch\n",
    "    stack.colourise((0,1,2), stretch = (0.0, 1.0 ) ) # clip and push to 0-255 RGB values\n",
    "    stack.data = None # we can delete scalar fields now\n",
    "    O.set(n+\"_Fe\", stack)\n",
    "\n",
    "    # we don't need the hypercloud anymore\n",
    "    del cloud\n",
    "    C.free()\n",
    "\n",
    "    # cleanup and save\n",
    "    print(\"Saving...\", end = '')\n",
    "    O.save()\n",
    "    O.free()\n",
    "    print(\"Done.\")"
   ]
  },
  {
   "cell_type": "markdown",
   "metadata": {
    "id": "ZJcI2ieaaTQ-"
   },
   "source": [
    "And saturation enhanced false-colour composites"
   ]
  },
  {
   "cell_type": "code",
   "execution_count": null,
   "metadata": {
    "colab": {
     "base_uri": "https://localhost:8080/"
    },
    "id": "92xiGdXkYZqr",
    "outputId": "10e856e3-eb94-42e1-bc89-5cf84c294787"
   },
   "outputs": [
    {
     "name": "stdout",
     "output_type": "stream",
     "text": [
      "Loading data for M1...hull correction..."
     ]
    },
    {
     "name": "stderr",
     "output_type": "stream",
     "text": [
      "Removing hull:   0%|          | 0/5629777 [00:00<?, ?it/s]"
     ]
    }
   ],
   "source": [
    "for n in ['M1', 'M4', 'N1', 'N2']:\n",
    "    print(\"Loading data for %s...\" % n, end = '')\n",
    "    cloud = C.get(n).export_bands((2100., 2430.)) # load hypercloud\n",
    "    C.free()\n",
    "    cloud.decompress()\n",
    "    cloud.set_as_nan(0)\n",
    "\n",
    "    # filter / clean point cloud\n",
    "    valid = np.isfinite(cloud.data).all(axis=-1) & (cloud.data != 0).any(axis=-1)\n",
    "    cloud.filter_points(0, np.logical_not(valid))\n",
    "\n",
    "    # hull correction\n",
    "    print(\"hull correction...\", end = '')\n",
    "    cloud = get_hull_corrected( cloud, band_range=(2100., 2430.) )\n",
    "\n",
    "    # saturation enhanced composites\n",
    "    print(\"Enhanced composite...\", end = '')\n",
    "    boosted = boost_saturation( cloud, hylite.SWIR, clip=(2,98), sat=0.7, val=0.85 )\n",
    "    boosted.colourise((0,1,2), stretch=(0,100))\n",
    "    boosted.data = None # we can delete scalar fields now\n",
    "    O.set(n+\"_ENH\", boosted)\n",
    "\n",
    "    # we don't need the hypercloud anymore\n",
    "    del cloud\n",
    "\n",
    "    # cleanup and save\n",
    "    print(\"Saving...\", end = '')\n",
    "\n",
    "    O.save()\n",
    "    O.free()\n",
    "    print(\"Done.\")"
   ]
  },
  {
   "cell_type": "markdown",
   "metadata": {
    "id": "2f0bOfsGNRdP"
   },
   "source": [
    "Plot everything on a fancy figure"
   ]
  },
  {
   "cell_type": "code",
   "execution_count": null,
   "metadata": {
    "colab": {
     "base_uri": "https://localhost:8080/",
     "height": 719
    },
    "id": "46C5dt7BNPBj",
    "outputId": "6d476b96-0a9e-4df4-d785-b9354cd53126"
   },
   "outputs": [],
   "source": [
    "fig,ax = plt.subplots(4,2,figsize=(20,14))\n",
    "l = 'abcdefgh'\n",
    "for i,n in enumerate(['N1', 'N2', 'M1', 'M4']):\n",
    "\n",
    "    # get data\n",
    "    FeO = O.get(n+\"_Fe\")\n",
    "    enh = O.get(n+\"_ENH\")\n",
    "    cam = C.get(n+'_cam')\n",
    "    # render scenes and plot\n",
    "    t = ['FeOx', 'ENH']\n",
    "    for j,img in enumerate([FeO,enh]):\n",
    "        # render image\n",
    "        render = img.render(cam,'rgb')\n",
    "        render.fill_holes()\n",
    "        render.data[(render.data==0).all(axis=-1),:] = np.nan # remove zeros after fill_holes\n",
    "\n",
    "        # clip to data area\n",
    "        ymin,ymax = np.percentile( np.argwhere( np.sum( np.isfinite(render.data[...,0]), axis=0 ) != 0 ),(0,100) )\n",
    "        xmin,xmax = np.percentile( np.argwhere( np.sum( np.isfinite(render.data[...,0]), axis=1 ) != 0 ),(0,100) )\n",
    "        render.data = render.data[int(xmin):int(xmax), int(ymin):int(ymax), :]\n",
    "\n",
    "        # plot\n",
    "        render.quick_plot((0,1,2), ax=ax[i,j],vmin=0.,vmax=255.)\n",
    "        ax[i,j].set_title(l[i*2+j] + \". Scene \" + n + ' (%s)'% t[j])\n",
    "        ax[i,j].set_frame_on(False)\n",
    "fig.tight_layout()\n",
    "fig.show()"
   ]
  },
  {
   "cell_type": "markdown",
   "metadata": {
    "id": "nGLt7YJYbHJS"
   },
   "source": [
    "### Chapter 3: Minimum wavelength maps\n",
    "\n",
    "We also generate visualisations of the minimum wavelength maps. These were calculated as described in Notebook 2, and were downloaded at in the first part of this notebook."
   ]
  },
  {
   "cell_type": "code",
   "execution_count": null,
   "metadata": {
    "id": "D4_H_4dwbWJ3"
   },
   "outputs": [],
   "source": [
    "# helps keep memory usage down\n",
    "%reset -f"
   ]
  },
  {
   "cell_type": "code",
   "execution_count": null,
   "metadata": {
    "id": "Df6pR8PUbbJ1"
   },
   "outputs": [],
   "source": [
    "import hylite # if this doesn't work then please refer to Step 1\n",
    "from hylite import io\n",
    "import matplotlib.pyplot as plt\n",
    "import matplotlib as mpl\n",
    "import numpy as np\n",
    "from hylite.analyse import colourise_mwl, plot_ternary\n",
    "from hylite.project import Camera\n",
    "from hylite.project import proj_pano\n",
    "import matplotlib.gridspec as gridspec"
   ]
  },
  {
   "cell_type": "code",
   "execution_count": null,
   "metadata": {
    "id": "69y9g69_bg8c"
   },
   "outputs": [],
   "source": [
    "# figure settings for matplotlib\n",
    "plt.rc('font', size=14)          # controls default text sizes\n",
    "plt.rc('axes', titlesize=18)     # fontsize of the axes title\n",
    "plt.rc('axes', labelsize=14)    # fontsize of the x and y labels\n",
    "plt.rc('xtick', labelsize=14)    # fontsize of the tick labels\n",
    "plt.rc('ytick', labelsize=14)    # fontsize of the tick labels\n",
    "plt.rc('legend', fontsize=12)    # legend fontsize\n",
    "plt.rc('figure', titlesize=20)  # fontsize of the figure title\n",
    "mpl.rcParams[\"figure.facecolor\"] = \"white\"\n",
    "mpl.rcParams[\"axes.facecolor\"] = \"white\"\n",
    "mpl.rcParams[\"savefig.facecolor\"] = \"white\"\n",
    "c = 'black'\n",
    "mpl.rcParams['text.color'] = c\n",
    "mpl.rcParams['axes.labelcolor'] = c\n",
    "mpl.rcParams['xtick.color'] = c\n",
    "mpl.rcParams['ytick.color'] = c"
   ]
  },
  {
   "cell_type": "markdown",
   "metadata": {
    "id": "T5drT2qYbpIY"
   },
   "source": [
    "Load hypercloud collection and MWL mapping results"
   ]
  },
  {
   "cell_type": "code",
   "execution_count": null,
   "metadata": {
    "id": "iCJaTyWKNVZb"
   },
   "outputs": [],
   "source": [
    "C = io.load('hyperclouds.hyc') # load hyperclouds HyCollection\n",
    "M = io.load('1000mwl_maps.hdr')\n",
    "#M = io.load('mwl_maps.hdr') # load MWL features\n",
    "O = hylite.HyCollection( 'visualisations','results/') # create output for storing mapping results"
   ]
  },
  {
   "cell_type": "markdown",
   "metadata": {
    "id": "-cXsXdiRbqiu"
   },
   "source": [
    "To quickly summarise the dominant spectral features, we will create a false-colour image with the depth of the three dominant SWIR features (AlOH, FeOH and MgOH) mapped to RGB. Additionally, we will plot the distribution of feature depth and position on a modified ternary diagram to highlight general trends."
   ]
  },
  {
   "cell_type": "code",
   "execution_count": null,
   "metadata": {
    "colab": {
     "base_uri": "https://localhost:8080/",
     "height": 1000
    },
    "id": "XDV38eR8bVFN",
    "outputId": "fbcc62dc-ec9d-482d-9449-158277cac45b",
    "scrolled": true
   },
   "outputs": [],
   "source": [
    "fig,ax = plt.subplots(4,2,figsize=(20,25))\n",
    "for i,(n,t) in enumerate(zip(['M1', 'M4', 'N1', 'N2'],'abcd')):\n",
    "    print(\"Loading and plotting %s\" % n)\n",
    "    mwl = M.get(n + \"_MWL\") # load hypercloud\n",
    "    cam = C.get(n+\"_cam\")\n",
    "\n",
    "    # extract features\n",
    "    F2200 = mwl.deepest(2100., 2235.)\n",
    "    F2250 = mwl.deepest(2235., 2290.)\n",
    "    F2350 = mwl.deepest(2290., 2380.)\n",
    "    features = [F2200, F2250, F2350]\n",
    "\n",
    "    O.free() # free memory\n",
    "    M.free()\n",
    "\n",
    "    # create dominant feature composite\n",
    "    domF = F2200.copy(data=False)\n",
    "    domF.data = np.vstack([F2200[:,0], F2250[:,0], F2350[:,0] / 3. ]).T # get depth of each feature\n",
    "    domF.set_band_names(['F2200_depth','F2250_depth','F2350_depth'])\n",
    "    domF.data = np.nan_to_num(domF.data) # replace nans with zeros\n",
    "    domF.rgb = domF.data / np.sum(domF.data, axis=-1)[:,None] # convert to colours\n",
    "    domF.rgb = (np.clip(domF.rgb,0,1) * 255).astype(np.uint8) # convert to uint8\n",
    "\n",
    "    # build RGB false-colour minimum wavelength maps for each feature\n",
    "    hue_map = [(2190.,2230.),(2230.,2290.),(2300.,2350.)]\n",
    "    for j,(f,fn) in enumerate(zip( features, ['F2200','F2250','F2350'] )):\n",
    "        # compute RGB mapping\n",
    "        rgb,leg = colourise_mwl(f, strength=False, mode='pd-', hue_map = hue_map[j], val_map=(0.0,0.1))\n",
    "\n",
    "        # bind it to the point cloud\n",
    "        f.rgb = rgb.rgb\n",
    "        f.rgb[ (f.rgb == 0).all(axis=-1), : ] = 204 # replace black (nans) with gray\n",
    "        f.set_band_names([\"depth\",\"pos\",\"width_L\", \"width_R\"])\n",
    "\n",
    "        # and store\n",
    "        O.set(\"%s_%s\"%(n,fn), f)\n",
    "\n",
    "    # store in the results collection\n",
    "    O.set(n+'_domF', domF)\n",
    "    O.save()\n",
    "\n",
    "    # compute hillshade\n",
    "    klm = F2200.render(cam,'klm',fill_holes=True)\n",
    "    sundir = np.mean(klm.data,axis=(0,1))\n",
    "    sundir = sundir / np.linalg.norm(sundir)\n",
    "    shade = np.clip( np.dot(klm.data, sundir), 0.5, 1.0 )\n",
    "\n",
    "    # add to plot\n",
    "    ax[i,0].set_title('%s. %s absorption depth'%(t,n),size=25, loc='left')\n",
    "\n",
    "\n",
    "    plot_ternary( F2200, F2250, F2350, bounds=[(2160,2235),(2235,2290),(2290,2380)], weights=[1.,1.,1./3],\n",
    "                    labels=['AlOH','FeOH', 'CO3'], s=10,palpha=0.05,label_offset=0.4,\n",
    "                    subsample=75, depth_thresh=0.1,ax=ax[i,1],\n",
    "                    title='',)\n",
    "\n",
    "    render = domF.render(cam,'rgb') # render the cloud!\n",
    "    render.fill_holes() # fill gaps in point cloud with neighbouring values\n",
    "    render.despeckle(size=3) # apply moderate median filter to reduce speckle noise\n",
    "    render.data[(render.data==0).all(axis=-1),:] = np.nan # remove zeros after fill_holes\n",
    "    render.data*=shade[...,None] # apply hillshade\n",
    "    render.crop_to_data() # clip to data area\n",
    "    render.data = render.data[max(0,render.xdim()-render.ydim()*3):-1,:,:] # clip to fit in figure\n",
    "    render.quick_plot((0,1,2), ax=ax[i,0],vmin=0.,vmax=255.)\n",
    "fig.tight_layout()\n",
    "fig.show()"
   ]
  },
  {
   "cell_type": "markdown",
   "metadata": {
    "id": "FYgcPBmucF_o"
   },
   "source": [
    "The position of the absorption features also reveals important information on mineral composition, especially (in this case) for distinguishing calcitic from dolomitic marbles. It is common to convey this information by mapping feature position to hue and depth to saturation or brightness. To illustrate this, we'll plot the minimum wavelength mapping results for the main Maarmorilik scene."
   ]
  },
  {
   "cell_type": "code",
   "execution_count": null,
   "metadata": {
    "id": "eqbWmKzJbs7h"
   },
   "outputs": [],
   "source": [
    "# create camera for plotting\n",
    "pos = np.array([489430.,7888040.,50.])\n",
    "ori = np.array([-100,50,-10])\n",
    "dims = (1500,500)\n",
    "fov=15\n",
    "cam = Camera( pos, ori, 'pano', fov=fov, dims=dims, step=fov / dims[1])"
   ]
  },
  {
   "cell_type": "code",
   "execution_count": null,
   "metadata": {
    "id": "GjX4vCvscI18"
   },
   "outputs": [],
   "source": [
    "# build RGB false-colour minimum wavelength maps for each feature\n",
    "hue_map = [(2190.,2230.),(2230.,2290.),(2300.,2350.)]\n",
    "features = [O.M1_F2200,O.M1_F2250,O.M1_F2350]\n",
    "rgb = [colourise_mwl(m, strength=False, mode='pd-', hue_map = hue_map[i], val_map=(0.0,0.1))\n",
    "                                                                       for i,m in enumerate(features)]"
   ]
  },
  {
   "cell_type": "code",
   "execution_count": null,
   "metadata": {
    "id": "-_KZr_CjcKvi"
   },
   "outputs": [],
   "source": [
    "# compute hillshade\n",
    "klm = features[0].render(cam,'klm',fill_holes=True)\n",
    "sundir = np.mean(klm.data,axis=(0,1))\n",
    "sundir = sundir / np.linalg.norm(sundir)\n",
    "shade = np.clip( np.dot(klm.data, sundir), 0.5, 1.0 )"
   ]
  },
  {
   "cell_type": "code",
   "execution_count": null,
   "metadata": {
    "id": "-cUipx4ecMHB"
   },
   "outputs": [],
   "source": [
    "# extract some spectra to check the MWL results\n",
    "idxA = [1050666, 1052923, 1258779, 1261761]\n",
    "namesA = ['Tremolitic marble', 'Dolomitic marble (E)', 'Calcitic marble (E)', 'Pelite']\n",
    "idxB = [117507,  160292,  173009,  236904]\n",
    "namesB = ['Calcitic marble (W)', 'Dolomitic marble (W)', 'Black Angel pelite', 'Graphitic marble']\n",
    "\n",
    "# put results in a spectral library\n",
    "A = hylite.HyLibrary( C.M1.data[idxA,:], lab=namesA, wav=C.M1.get_wavelengths() )\n",
    "B = hylite.HyLibrary( C.M1.data[idxB,:], lab=namesB, wav=C.M1.get_wavelengths() )\n",
    "A.decompress()\n",
    "B.decompress()\n",
    "\n",
    "# extract positions also\n",
    "A.xyz = C.M1.xyz[idxA,:]\n",
    "B.xyz = C.M1.xyz[idxB,:]"
   ]
  },
  {
   "cell_type": "code",
   "execution_count": null,
   "metadata": {
    "colab": {
     "base_uri": "https://localhost:8080/",
     "height": 1000
    },
    "id": "tfhK4GGMcONg",
    "outputId": "9235896e-d2af-4ef0-c2c4-8e5022ec53ef"
   },
   "outputs": [],
   "source": [
    "# plot features\n",
    "fig,ax = plt.subplots(4,1,figsize=(20,26))\n",
    "names=['a. $AlOH$ feature', 'b. $FeOH$ feature', 'c. $CO_{3}$ / $MgOH$ feature']\n",
    "for i, (cld,leg) in enumerate(rgb):\n",
    "    # generate cloud\n",
    "    cld.rgb[ (cld.rgb == 0).all(axis=-1), : ] = 204 # replace black (nans) with gray\n",
    "    cld.data = features[i].data # copy data from MWL rather than RGB info ( for export )\n",
    "    cld.set_wavelengths(None)\n",
    "    cld.set_band_names([\"depth\",\"pos\",\"width_L\", \"width_R\"])\n",
    "\n",
    "    # render cloud\n",
    "    render = cld.render(cam,'rgb')\n",
    "    render.fill_holes()\n",
    "    render.despeckle(3)\n",
    "    render.data[(render.data==0).all(axis=-1),:] = np.nan # remove zeros after fill_holes\n",
    "    render.data *= shade[...,None] # apply hillshade\n",
    "\n",
    "    # plot it\n",
    "    ax[i].set_title(names[i],loc='left')\n",
    "    render.quick_plot((0,1,2),vmin=0.,vmax=255.,ax=ax[i])\n",
    "    leg.plot(ax=ax[i],pos=(1.05,0.5),s=(0.1,0.25))\n",
    "\n",
    "    # plot spectra points\n",
    "    Axy,_ = proj_pano(A.xyz, cam.pos, cam.ori, cam.fov, cam.dims, cam.step)\n",
    "    Bxy,_ = proj_pano(B.xyz, cam.pos, cam.ori, cam.fov, cam.dims, cam.step)\n",
    "    ax[i].scatter(Axy[:,0],Axy[:,1],c='white',edgecolors= \"black\")\n",
    "    ax[i].scatter(Bxy[:,0],Bxy[:,1],c='white',edgecolors= \"black\")\n",
    "    if i == 0:\n",
    "        for px,py,t in zip(Axy[:,0],Axy[:,1],namesA):\n",
    "            ax[i].text(px+15,py,t,va='center',bbox={'facecolor':'white', 'alpha':0.5})\n",
    "        for px,py,t in zip(Bxy[:,0],Bxy[:,1],namesB):\n",
    "            ax[i].text(px+15,py,t,va='center',bbox={'facecolor':'white', 'alpha':0.5})\n",
    "(A+B).quick_plot(ax=ax[-1],hc=True,band_range=(2100., 2400.),pad=0.1)\n",
    "ax[-1].set_xlabel(\"Wavelength (nm)\")\n",
    "ax[-1].set_title(\"d. Example spectra\",loc='left')\n",
    "fig.tight_layout()\n",
    "fig.show()\n"
   ]
  },
  {
   "cell_type": "markdown",
   "metadata": {
    "id": "diT3qME1cSwj"
   },
   "source": [
    "#### Chapter 4: Detailed figures\n",
    "\n",
    "Finally we create some specific figures highlighting different structures of interest."
   ]
  },
  {
   "cell_type": "code",
   "execution_count": null,
   "metadata": {
    "id": "btWYQ9BFccIb"
   },
   "outputs": [],
   "source": [
    "# helps keep memory usage down\n",
    "%reset -f"
   ]
  },
  {
   "cell_type": "code",
   "execution_count": null,
   "metadata": {
    "id": "DfgqTQqlcd6K"
   },
   "outputs": [],
   "source": [
    "import hylite # if this doesn't work then please refer to Step 1\n",
    "from hylite import io\n",
    "import matplotlib.pyplot as plt\n",
    "import matplotlib as mpl\n",
    "import numpy as np\n",
    "from hylite.analyse import colourise_mwl, plot_ternary\n",
    "from hylite.project import Camera\n",
    "from hylite.project import proj_pano\n",
    "import matplotlib.gridspec as gridspec"
   ]
  },
  {
   "cell_type": "code",
   "execution_count": null,
   "metadata": {
    "id": "bNe05E0icdqI"
   },
   "outputs": [],
   "source": [
    "# figure settings for matplotlib\n",
    "plt.rc('font', size=14)          # controls default text sizes\n",
    "plt.rc('axes', titlesize=18)     # fontsize of the axes title\n",
    "plt.rc('axes', labelsize=14)    # fontsize of the x and y labels\n",
    "plt.rc('xtick', labelsize=14)    # fontsize of the tick labels\n",
    "plt.rc('ytick', labelsize=14)    # fontsize of the tick labels\n",
    "plt.rc('legend', fontsize=12)    # legend fontsize\n",
    "plt.rc('figure', titlesize=20)  # fontsize of the figure title\n",
    "\n",
    "# change background to black and text colour to white\n",
    "mpl.rcParams['axes.facecolor'] = 'black'\n",
    "mpl.rcParams[\"savefig.facecolor\"] = 'black'\n",
    "COLOR = 'white'\n",
    "mpl.rcParams['text.color'] = COLOR\n",
    "mpl.rcParams['axes.labelcolor'] = COLOR\n",
    "mpl.rcParams['xtick.color'] = COLOR\n",
    "mpl.rcParams['ytick.color'] = COLOR"
   ]
  },
  {
   "cell_type": "code",
   "execution_count": null,
   "metadata": {
    "id": "xIBlKVaTc94l"
   },
   "outputs": [],
   "source": [
    "C = io.load('hyperclouds.hyc') # load hyperclouds HyCollection\n",
    "M = io.load('mwl_maps.hdr') # load MWL features\n",
    "O = hylite.HyCollection( 'visualisations','results/') # create output for storing mapping results"
   ]
  },
  {
   "cell_type": "markdown",
   "metadata": {
    "id": "JuiOe2MLdx6o"
   },
   "source": [
    "Maarmorilik Figure"
   ]
  },
  {
   "cell_type": "code",
   "execution_count": null,
   "metadata": {
    "id": "7SXZzR1HcP1g"
   },
   "outputs": [],
   "source": [
    "# RGB colour\n",
    "fA = C.M1\n",
    "fA.data = None # remove HSI data - we only want RGB\n",
    "C.free()\n",
    "\n",
    "# Iron index\n",
    "fB = O.M1_Fe\n",
    "\n",
    "# Carbonate MWL\n",
    "fC,C_leg = colourise_mwl( M.M1_MWL.deepest(2290.,2380.),\n",
    "                       strength=False, mode='p-d',\n",
    "                       hue_map = (2300.,2350.), val_map=(0.0,0.2) )"
   ]
  },
  {
   "cell_type": "code",
   "execution_count": null,
   "metadata": {
    "id": "QBRb3lt8di2L"
   },
   "outputs": [],
   "source": [
    "# create camera for plotting\n",
    "pos = np.array([489430.,7888040.,50.])\n",
    "ori = np.array([-100,50,-10])\n",
    "dims = (1500,500)\n",
    "fov=15\n",
    "cam = Camera( pos, ori, 'pano', fov=fov, dims=dims, step=fov / dims[1])"
   ]
  },
  {
   "cell_type": "code",
   "execution_count": null,
   "metadata": {
    "colab": {
     "base_uri": "https://localhost:8080/",
     "height": 1000
    },
    "id": "NaY31eCscXCK",
    "outputId": "8932829f-ec59-4cf8-af49-ed01379bb177"
   },
   "outputs": [],
   "source": [
    "# render plot\n",
    "fig,ax = plt.subplots(3,1, figsize=(20,16),facecolor='k')\n",
    "t = ['a. RGB photogrammetry', 'b. Iron mineralogy',\n",
    "     'c. Carbonate mineralogy' ]\n",
    "for i,cld in enumerate([fA,fB,fC]):\n",
    "    # render cloud\n",
    "    render = cld.render(cam,'rgb')\n",
    "    render.fill_holes()\n",
    "    render.despeckle(3) # remove salt and pepper noise\n",
    "    #render.data *= shade[...,None]**0.5 # apply hillshade\n",
    "\n",
    "    # plot it\n",
    "    ax[i].set_title(t[i],loc='left')\n",
    "    render.quick_plot((0,1,2),vmin=2,vmax=98,ax=ax[i])\n",
    "\n",
    "fig.tight_layout()"
   ]
  },
  {
   "cell_type": "markdown",
   "metadata": {
    "id": "N8PHlr-Pdzgi"
   },
   "source": [
    "Black Angel Figure"
   ]
  },
  {
   "cell_type": "code",
   "execution_count": null,
   "metadata": {
    "id": "g2Abo9etdkin"
   },
   "outputs": [],
   "source": [
    "# create camera for plotting\n",
    "pos = np.array([489430.,7888040.,200.])\n",
    "ori = np.array([-95,35,-10])\n",
    "dims = (600,400)\n",
    "fov=12\n",
    "cam = Camera( pos, ori, 'persp', fov=fov, dims=dims)"
   ]
  },
  {
   "cell_type": "code",
   "execution_count": null,
   "metadata": {
    "id": "dbVWvjHkd2vh"
   },
   "outputs": [],
   "source": [
    "# gather clouds\n",
    "cA = O.M1_Fe\n",
    "cB = O.M1_ENH\n",
    "cC,legC = colourise_mwl( M.M1_MWL.deepest(2150.,2280.),\n",
    "                       strength=False, mode='p-d',\n",
    "                       hue_map = (2150.,2300.), val_map=(0.0,0.1) )\n",
    "cD,legD = colourise_mwl( M.M1_MWL.deepest(2290.,2380.),\n",
    "                       strength=False, mode='p-d',\n",
    "                       hue_map = (2300.,2350.), val_map=(0.0,0.2) )"
   ]
  },
  {
   "cell_type": "code",
   "execution_count": null,
   "metadata": {
    "id": "e5kgEs0QeKQs"
   },
   "outputs": [],
   "source": [
    "# build spectral library\n",
    "idx = [117507,  160292,  173009,  236904]\n",
    "names = ['Calcitic marble', 'Dolomitic marble', 'Black Angel pelite', 'Graphitic marble']\n",
    "\n",
    "# put results in a spectral library\n",
    "lib = hylite.HyLibrary( C.M1.data[idx,:], lab=names, wav=C.M1.get_wavelengths() )\n",
    "lib.decompress()\n",
    "\n",
    "# extract positions also\n",
    "lib.xyz = C.M1.xyz[idx,:]\n",
    "\n",
    "# clean up to free memory\n",
    "C.free()"
   ]
  },
  {
   "cell_type": "code",
   "execution_count": null,
   "metadata": {
    "id": "G5h7K-mHd5O9"
   },
   "outputs": [],
   "source": [
    "# compute hillshade factor\n",
    "klm = cA.render(cam,'klm',fill_holes=True)\n",
    "sundir = np.array([0.5,0.5,-1.0])\n",
    "sundir = sundir / np.linalg.norm(sundir)\n",
    "shade = np.clip( np.dot(-klm.data, sundir), 0.5, 1.0 )"
   ]
  },
  {
   "cell_type": "code",
   "execution_count": null,
   "metadata": {
    "colab": {
     "base_uri": "https://localhost:8080/",
     "height": 1000
    },
    "id": "ZrmlXE21d67C",
    "outputId": "73b69f84-63c7-465c-a54b-84115d6601a6"
   },
   "outputs": [],
   "source": [
    "# setup figure\n",
    "fig = plt.figure(figsize=(20,22),facecolor='k')\n",
    "spec = gridspec.GridSpec(ncols=2, nrows=3, figure=fig)\n",
    "ax = [\n",
    "    fig.add_subplot(spec[0, :]),\n",
    "    fig.add_subplot(spec[1, 0]),\n",
    "    fig.add_subplot(spec[1, 1]),\n",
    "    fig.add_subplot(spec[2, 0]),\n",
    "    fig.add_subplot(spec[2, 1]),\n",
    "]\n",
    "\n",
    "# render spectra\n",
    "ax[0].set_title(\"     a. Spectral lithology\", loc='left')\n",
    "lib.quick_plot(ax=ax[0],hc=True,pad=0.1, band_range=(2100., -1))\n",
    "ax[0].set_yticks( ax[0].get_yticks() - 0.05 ) # move labels up\n",
    "ax[0].set_yticklabels(names)\n",
    "ax[0].tick_params(axis=\"y\",direction=\"in\", pad=-150) # move labels in\n",
    "\n",
    "# render hypercloud\n",
    "titles = ['b. Iron mineralogy', 'c. Saturation enhanced composite',\n",
    "     'd. Silicate mineralogy', 'e. Carbonate mineralogy']\n",
    "for i,cld in enumerate([cA,cB,cC,cD]):\n",
    "    # render cloud\n",
    "    render = cld.render(cam,'rgb')\n",
    "    render.fill_holes()\n",
    "    render.despeckle(3) # remove salt and pepper noise\n",
    "    render.data *= shade[...,None]**0.5 # apply hillshade\n",
    "\n",
    "    # plot it\n",
    "    ax[i+1].set_title(titles[i],loc='left')\n",
    "    render.quick_plot((0,1,2),vmin=2,vmax=98,ax=ax[i+1])\n",
    "\n",
    "    # plot spectra points\n",
    "    xy,_ = proj_pano(lib.xyz, cam.pos, cam.ori, cam.fov, cam.dims, cam.step)\n",
    "    ax[i+1].scatter(xy[:,0],xy[:,1],c='white',edgecolors= \"black\")\n",
    "    if i == 0:\n",
    "        for px,py,t in zip(xy[:,0],xy[:,1],names):\n",
    "            ax[i+1].text(px+15,py,t,va='center',bbox={'facecolor':'black', 'alpha':0.5})\n",
    "\n",
    "# plot MWL legends\n",
    "legC.plot( ax[3], pos=(0.3,-0.2), s=(0.5,0.15) )\n",
    "legD.plot( ax[4], pos=(0.3,-0.2), s=(0.5,0.15) )\n",
    "fig.tight_layout()"
   ]
  }
 ],
 "metadata": {
  "colab": {
   "provenance": []
  },
  "kernelspec": {
   "display_name": "Python 3 (ipykernel)",
   "language": "python",
   "name": "python3"
  },
  "language_info": {
   "codemirror_mode": {
    "name": "ipython",
    "version": 3
   },
   "file_extension": ".py",
   "mimetype": "text/x-python",
   "name": "python",
   "nbconvert_exporter": "python",
   "pygments_lexer": "ipython3",
   "version": "3.8.10"
  }
 },
 "nbformat": 4,
 "nbformat_minor": 4
}